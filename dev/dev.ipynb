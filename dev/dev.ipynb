{
 "cells": [
  {
   "cell_type": "code",
   "execution_count": 29,
   "metadata": {},
   "outputs": [],
   "source": [
    "import wikipedia as wk\n",
    "import random\n",
    "import tkinter as tk\n"
   ]
  },
  {
   "cell_type": "code",
   "execution_count": 30,
   "metadata": {},
   "outputs": [],
   "source": [
    "def randomPageGenerator():\n",
    "\n",
    "    # wikipedia random title generator\n",
    "    title = wk.random(pages=1)\n",
    "\n",
    "    # search for the page\n",
    "    page = wk.page(title)\n",
    "\n",
    "\n",
    "    # Get meta info about the page\n",
    "    page.meta = {\n",
    "        'title' : title,\n",
    "        'categories' : page.categories\n",
    "    }\n",
    "\n",
    "    print(page.meta)\n",
    "\n",
    "    # Ask for user input\n",
    "    print(f\"Title of the page fetched: {page.title}\")\n",
    "    user_input = input(\"Do you want to read the page? (y/n) \")\n",
    "\n",
    "    if user_input == 'y':\n",
    "        print(page.content)\n",
    "    else:\n",
    "        print(\"Ok, next one!\")\n",
    "        randomPageGenerator()"
   ]
  }
 ],
 "metadata": {
  "interpreter": {
   "hash": "aee8b7b246df8f9039afb4144a1f6fd8d2ca17a180786b69acc140d282b71a49"
  },
  "kernelspec": {
   "display_name": "Python 3.9.7 64-bit",
   "language": "python",
   "name": "python3"
  },
  "language_info": {
   "codemirror_mode": {
    "name": "ipython",
    "version": 3
   },
   "file_extension": ".py",
   "mimetype": "text/x-python",
   "name": "python",
   "nbconvert_exporter": "python",
   "pygments_lexer": "ipython3",
   "version": "3.9.12"
  },
  "orig_nbformat": 4
 },
 "nbformat": 4,
 "nbformat_minor": 2
}
